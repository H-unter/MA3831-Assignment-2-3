{
 "cells": [
  {
   "cell_type": "markdown",
   "metadata": {},
   "source": [
    "This is a preliminary test of getting ahold of stock price data, potentially as some kind of response variable to a stok prediction model. Ultimately, this functionality is out of scope for a purely NLP solution"
   ]
  },
  {
   "cell_type": "code",
   "execution_count": 2,
   "metadata": {},
   "outputs": [
    {
     "name": "stdout",
     "output_type": "stream",
     "text": [
      "YF.download() has changed argument auto_adjust default to True\n"
     ]
    },
    {
     "name": "stderr",
     "output_type": "stream",
     "text": [
      "[*********************100%***********************]  1 of 1 completed\n"
     ]
    },
    {
     "data": {
      "application/vnd.microsoft.datawrangler.viewer.v0+json": {
       "columns": [
        {
         "name": "Date",
         "rawType": "datetime64[ns]",
         "type": "datetime"
        },
        {
         "name": "('Close', 'RIO.AX')",
         "rawType": "float64",
         "type": "float"
        },
        {
         "name": "('High', 'RIO.AX')",
         "rawType": "float64",
         "type": "float"
        },
        {
         "name": "('Low', 'RIO.AX')",
         "rawType": "float64",
         "type": "float"
        },
        {
         "name": "('Open', 'RIO.AX')",
         "rawType": "float64",
         "type": "float"
        },
        {
         "name": "('Volume', 'RIO.AX')",
         "rawType": "int64",
         "type": "integer"
        }
       ],
       "conversionMethod": "pd.DataFrame",
       "ref": "c21ffc46-9024-4bab-bfe1-a30af8d9713f",
       "rows": [
        [
         "2024-01-02 00:00:00",
         "125.17291259765625",
         "125.314976356997",
         "123.74308659217098",
         "123.82558650518054",
         "432987"
        ],
        [
         "2024-01-03 00:00:00",
         "123.47728729248047",
         "124.46716032663429",
         "123.21148067064168",
         "124.36633953652401",
         "687039"
        ],
        [
         "2024-01-04 00:00:00",
         "123.27564239501953",
         "123.91722286690883",
         "122.87694645839568",
         "123.17482160762226",
         "984237"
        ],
        [
         "2024-01-05 00:00:00",
         "121.31423950195312",
         "123.3214809605622",
         "121.15842808999162",
         "123.28481122515576",
         "682934"
        ],
        [
         "2024-01-08 00:00:00",
         "120.5443344116211",
         "122.34075972890895",
         "119.90275394116114",
         "121.21341018900037",
         "785847"
        ],
        [
         "2024-01-09 00:00:00",
         "120.89260864257812",
         "121.84582586641552",
         "120.52599523981287",
         "121.3508823887371",
         "550026"
        ],
        [
         "2024-01-10 00:00:00",
         "118.14297485351562",
         "119.88442360822376",
         "117.904677522735",
         "119.70111689336129",
         "983692"
        ],
        [
         "2024-01-11 00:00:00",
         "117.68470001220703",
         "118.51417442743816",
         "117.34558189349983",
         "118.15214821410697",
         "989723"
        ],
        [
         "2024-01-12 00:00:00",
         "118.37211608886719",
         "119.5269750071666",
         "117.45556849550266",
         "117.59305902575117",
         "1180303"
        ],
        [
         "2024-01-15 00:00:00",
         "117.8771743774414",
         "118.13380655826725",
         "117.2172590594878",
         "117.95966029583437",
         "90530"
        ],
        [
         "2024-01-16 00:00:00",
         "116.08992004394531",
         "117.95967095686265",
         "115.24669095440449",
         "117.77636423762075",
         "1100667"
        ],
        [
         "2024-01-17 00:00:00",
         "115.97991943359375",
         "117.7488563569507",
         "115.63163390713936",
         "117.03395043845349",
         "1175377"
        ],
        [
         "2024-01-18 00:00:00",
         "116.2732162475586",
         "116.6306692126448",
         "114.7425836029379",
         "115.21001779254142",
         "1281940"
        ],
        [
         "2024-01-19 00:00:00",
         "117.31808471679688",
         "117.67553769675214",
         "116.64900193810718",
         "117.04311765866078",
         "1954443"
        ],
        [
         "2024-01-22 00:00:00",
         "117.3455810546875",
         "117.52888776658632",
         "116.30988484632375",
         "117.2447602653323",
         "917744"
        ],
        [
         "2024-01-23 00:00:00",
         "117.13478088378906",
         "117.86802172836137",
         "115.25585559001188",
         "115.31084620590877",
         "1210656"
        ],
        [
         "2024-01-24 00:00:00",
         "118.25296783447266",
         "119.5819589738503",
         "118.16130748607188",
         "118.64707656470367",
         "756917"
        ],
        [
         "2024-01-25 00:00:00",
         "121.56169891357422",
         "121.60751510006679",
         "118.79372155874431",
         "119.00452356698683",
         "1363895"
        ],
        [
         "2024-01-29 00:00:00",
         "120.81930541992188",
         "122.44158452287137",
         "120.32436190836665",
         "121.4425510443623",
         "1002902"
        ],
        [
         "2024-01-30 00:00:00",
         "121.40589904785156",
         "122.38659768965498",
         "121.10343666708802",
         "121.8916681482095",
         "587915"
        ],
        [
         "2024-01-31 00:00:00",
         "121.82749938964844",
         "121.9374806209703",
         "120.20520630062182",
         "120.55349884701549",
         "1573506"
        ],
        [
         "2024-02-01 00:00:00",
         "121.25006866455078",
         "121.38755918764632",
         "120.15938883293124",
         "120.53516269775211",
         "1126480"
        ],
        [
         "2024-02-02 00:00:00",
         "120.98428344726562",
         "122.65698002360296",
         "120.87430221037093",
         "122.22162830395709",
         "1545613"
        ],
        [
         "2024-02-05 00:00:00",
         "118.34461212158203",
         "119.49029652946724",
         "117.84052217043683",
         "118.83955561761545",
         "1165644"
        ],
        [
         "2024-02-06 00:00:00",
         "117.6938705444336",
         "118.28046039853875",
         "116.77732302330645",
         "117.0889458239924",
         "1172147"
        ],
        [
         "2024-02-07 00:00:00",
         "118.7937240600586",
         "119.91191314795809",
         "118.56458718115141",
         "118.78456361964818",
         "939737"
        ],
        [
         "2024-02-08 00:00:00",
         "118.49126434326172",
         "119.71027424447283",
         "118.36294824762926",
         "119.21534472857778",
         "974649"
        ],
        [
         "2024-02-09 00:00:00",
         "119.03202819824219",
         "119.57280189234986",
         "118.50960335681688",
         "118.81206573254985",
         "1230600"
        ],
        [
         "2024-02-12 00:00:00",
         "118.17046356201172",
         "118.50959565024395",
         "117.84051988492917",
         "118.05132189597805",
         "539917"
        ],
        [
         "2024-02-13 00:00:00",
         "118.23462677001953",
         "119.09618365236508",
         "118.02382476223443",
         "118.24378721021719",
         "703123"
        ],
        [
         "2024-02-14 00:00:00",
         "117.55638122558594",
         "117.84968314833657",
         "116.30071558414775",
         "116.8139799635559",
         "1144782"
        ],
        [
         "2024-02-15 00:00:00",
         "116.75899505615234",
         "118.39960906233398",
         "115.83328004715754",
         "117.868023775826",
         "1415174"
        ],
        [
         "2024-02-16 00:00:00",
         "118.1979751586914",
         "118.4546073472522",
         "115.19169339821467",
         "117.59305043476719",
         "1576974"
        ],
        [
         "2024-02-19 00:00:00",
         "120.03107452392578",
         "120.96594296495398",
         "119.68278197604909",
         "120.05856983187333",
         "762606"
        ],
        [
         "2024-02-20 00:00:00",
         "117.35474395751953",
         "119.4444852703075",
         "116.46569869418474",
         "119.4444852703075",
         "1133423"
        ],
        [
         "2024-02-21 00:00:00",
         "115.30168914794922",
         "115.88827904373612",
         "113.2027943363011",
         "114.4951227967149",
         "1770339"
        ],
        [
         "2024-02-22 00:00:00",
         "113.98185729980469",
         "114.87090956883159",
         "112.80867751941157",
         "113.28527918293263",
         "1477509"
        ],
        [
         "2024-02-23 00:00:00",
         "114.01851654052734",
         "114.71509463600754",
         "113.58773807348962",
         "114.11016989692405",
         "1111586"
        ],
        [
         "2024-02-26 00:00:00",
         "112.35039520263672",
         "114.35762949000728",
         "111.91503653490145",
         "113.45024941509449",
         "1816904"
        ],
        [
         "2024-02-27 00:00:00",
         "112.85449981689453",
         "112.99198335098407",
         "110.37065674043484",
         "110.54480301646178",
         "1462621"
        ],
        [
         "2024-02-28 00:00:00",
         "113.08363342285156",
         "114.44012686429903",
         "112.73534787362314",
         "113.3036098680827",
         "1212823"
        ],
        [
         "2024-02-29 00:00:00",
         "113.45024871826172",
         "114.0826687325269",
         "111.9837741130912",
         "112.13958551023688",
         "2141851"
        ],
        [
         "2024-03-01 00:00:00",
         "114.44928741455078",
         "115.0267098149742",
         "114.04600428191718",
         "114.21098310956707",
         "1565891"
        ],
        [
         "2024-03-04 00:00:00",
         "113.11112976074219",
         "114.88922714673228",
         "112.51537249020787",
         "114.43095339904471",
         "1440914"
        ],
        [
         "2024-03-05 00:00:00",
         "114.35763549804688",
         "116.03491920396208",
         "113.79854792211138",
         "114.19265665824041",
         "1658274"
        ],
        [
         "2024-03-06 00:00:00",
         "113.32192993164062",
         "114.26597271774021",
         "112.46954049505221",
         "113.14778367267775",
         "1833607"
        ],
        [
         "2024-03-07 00:00:00",
         "114.18128204345703",
         "114.69245759838628",
         "113.83103012004183",
         "114.09608250656756",
         "1378453"
        ],
        [
         "2024-03-08 00:00:00",
         "113.49024200439453",
         "114.95750551550547",
         "113.11159265744955",
         "114.95750551550547",
         "1623863"
        ],
        [
         "2024-03-11 00:00:00",
         "109.4197769165039",
         "112.17444394325457",
         "109.4197769165039",
         "111.70113405319864",
         "1220909"
        ],
        [
         "2024-03-12 00:00:00",
         "109.19258880615234",
         "110.48946048842109",
         "108.74767635960264",
         "109.80789309984586",
         "1422483"
        ]
       ],
       "shape": {
        "columns": 5,
        "rows": 253
       }
      },
      "text/html": [
       "<div>\n",
       "<style scoped>\n",
       "    .dataframe tbody tr th:only-of-type {\n",
       "        vertical-align: middle;\n",
       "    }\n",
       "\n",
       "    .dataframe tbody tr th {\n",
       "        vertical-align: top;\n",
       "    }\n",
       "\n",
       "    .dataframe thead tr th {\n",
       "        text-align: left;\n",
       "    }\n",
       "\n",
       "    .dataframe thead tr:last-of-type th {\n",
       "        text-align: right;\n",
       "    }\n",
       "</style>\n",
       "<table border=\"1\" class=\"dataframe\">\n",
       "  <thead>\n",
       "    <tr>\n",
       "      <th>Price</th>\n",
       "      <th>Close</th>\n",
       "      <th>High</th>\n",
       "      <th>Low</th>\n",
       "      <th>Open</th>\n",
       "      <th>Volume</th>\n",
       "    </tr>\n",
       "    <tr>\n",
       "      <th>Ticker</th>\n",
       "      <th>RIO.AX</th>\n",
       "      <th>RIO.AX</th>\n",
       "      <th>RIO.AX</th>\n",
       "      <th>RIO.AX</th>\n",
       "      <th>RIO.AX</th>\n",
       "    </tr>\n",
       "    <tr>\n",
       "      <th>Date</th>\n",
       "      <th></th>\n",
       "      <th></th>\n",
       "      <th></th>\n",
       "      <th></th>\n",
       "      <th></th>\n",
       "    </tr>\n",
       "  </thead>\n",
       "  <tbody>\n",
       "    <tr>\n",
       "      <th>2024-01-02</th>\n",
       "      <td>125.172913</td>\n",
       "      <td>125.314976</td>\n",
       "      <td>123.743087</td>\n",
       "      <td>123.825587</td>\n",
       "      <td>432987</td>\n",
       "    </tr>\n",
       "    <tr>\n",
       "      <th>2024-01-03</th>\n",
       "      <td>123.477287</td>\n",
       "      <td>124.467160</td>\n",
       "      <td>123.211481</td>\n",
       "      <td>124.366340</td>\n",
       "      <td>687039</td>\n",
       "    </tr>\n",
       "    <tr>\n",
       "      <th>2024-01-04</th>\n",
       "      <td>123.275642</td>\n",
       "      <td>123.917223</td>\n",
       "      <td>122.876946</td>\n",
       "      <td>123.174822</td>\n",
       "      <td>984237</td>\n",
       "    </tr>\n",
       "    <tr>\n",
       "      <th>2024-01-05</th>\n",
       "      <td>121.314240</td>\n",
       "      <td>123.321481</td>\n",
       "      <td>121.158428</td>\n",
       "      <td>123.284811</td>\n",
       "      <td>682934</td>\n",
       "    </tr>\n",
       "    <tr>\n",
       "      <th>2024-01-08</th>\n",
       "      <td>120.544334</td>\n",
       "      <td>122.340760</td>\n",
       "      <td>119.902754</td>\n",
       "      <td>121.213410</td>\n",
       "      <td>785847</td>\n",
       "    </tr>\n",
       "    <tr>\n",
       "      <th>...</th>\n",
       "      <td>...</td>\n",
       "      <td>...</td>\n",
       "      <td>...</td>\n",
       "      <td>...</td>\n",
       "      <td>...</td>\n",
       "    </tr>\n",
       "    <tr>\n",
       "      <th>2024-12-20</th>\n",
       "      <td>113.227356</td>\n",
       "      <td>113.770511</td>\n",
       "      <td>112.529019</td>\n",
       "      <td>112.703603</td>\n",
       "      <td>2287064</td>\n",
       "    </tr>\n",
       "    <tr>\n",
       "      <th>2024-12-23</th>\n",
       "      <td>113.615326</td>\n",
       "      <td>113.615326</td>\n",
       "      <td>112.121663</td>\n",
       "      <td>113.227360</td>\n",
       "      <td>777110</td>\n",
       "    </tr>\n",
       "    <tr>\n",
       "      <th>2024-12-24</th>\n",
       "      <td>112.664818</td>\n",
       "      <td>113.867505</td>\n",
       "      <td>112.490234</td>\n",
       "      <td>113.149773</td>\n",
       "      <td>355789</td>\n",
       "    </tr>\n",
       "    <tr>\n",
       "      <th>2024-12-27</th>\n",
       "      <td>113.314651</td>\n",
       "      <td>114.255466</td>\n",
       "      <td>113.004280</td>\n",
       "      <td>113.140067</td>\n",
       "      <td>453130</td>\n",
       "    </tr>\n",
       "    <tr>\n",
       "      <th>2024-12-30</th>\n",
       "      <td>114.323364</td>\n",
       "      <td>114.449450</td>\n",
       "      <td>113.411646</td>\n",
       "      <td>113.431041</td>\n",
       "      <td>551648</td>\n",
       "    </tr>\n",
       "  </tbody>\n",
       "</table>\n",
       "<p>253 rows × 5 columns</p>\n",
       "</div>"
      ],
      "text/plain": [
       "Price            Close        High         Low        Open   Volume\n",
       "Ticker          RIO.AX      RIO.AX      RIO.AX      RIO.AX   RIO.AX\n",
       "Date                                                               \n",
       "2024-01-02  125.172913  125.314976  123.743087  123.825587   432987\n",
       "2024-01-03  123.477287  124.467160  123.211481  124.366340   687039\n",
       "2024-01-04  123.275642  123.917223  122.876946  123.174822   984237\n",
       "2024-01-05  121.314240  123.321481  121.158428  123.284811   682934\n",
       "2024-01-08  120.544334  122.340760  119.902754  121.213410   785847\n",
       "...                ...         ...         ...         ...      ...\n",
       "2024-12-20  113.227356  113.770511  112.529019  112.703603  2287064\n",
       "2024-12-23  113.615326  113.615326  112.121663  113.227360   777110\n",
       "2024-12-24  112.664818  113.867505  112.490234  113.149773   355789\n",
       "2024-12-27  113.314651  114.255466  113.004280  113.140067   453130\n",
       "2024-12-30  114.323364  114.449450  113.411646  113.431041   551648\n",
       "\n",
       "[253 rows x 5 columns]"
      ]
     },
     "execution_count": 2,
     "metadata": {},
     "output_type": "execute_result"
    }
   ],
   "source": [
    "import yfinance as yf\n",
    "import pandas as pd\n",
    "data = yf.download(\"RIO.AX\", start=\"2024-01-01\", end=\"2024-12-31\")\n",
    "df = pd.DataFrame(data)\n",
    "df"
   ]
  },
  {
   "cell_type": "code",
   "execution_count": 3,
   "metadata": {},
   "outputs": [
    {
     "data": {
      "image/png": "[encoded data removed]",
      "text/plain": [
       "<Figure size 640x480 with 1 Axes>"
      ]
     },
     "metadata": {},
     "output_type": "display_data"
    }
   ],
   "source": [
    "import matplotlib.pyplot as plt\n",
    "#plot the low as blue and the high as red \n",
    "#('High', 'RIO.AX')\n",
    "#('Low', 'RIO.AX')\n",
    "fig, ax = plt.subplots()\n",
    "df['High'].plot(color='red', label='High', ax=ax)\n",
    "df['Low'].plot(color='blue', label='Low', ax=ax)\n",
    "plt.legend()\n",
    "plt.show()\n",
    "\n"
   ]
  },
  {
   "cell_type": "code",
   "execution_count": 4,
   "metadata": {},
   "outputs": [
    {
     "name": "stdout",
     "output_type": "stream",
     "text": [
      "Price            Close        High         Low        Open  Volume\n",
      "Ticker          RIO.AX      RIO.AX      RIO.AX      RIO.AX  RIO.AX\n",
      "Date                                                              \n",
      "2024-01-02  125.172913  125.314976  123.743087  123.825587  432987\n",
      "2024-01-03  123.477287  124.467160  123.211481  124.366340  687039\n",
      "2024-01-04  123.275642  123.917223  122.876946  123.174822  984237\n",
      "2024-01-05  121.314240  123.321481  121.158428  123.284811  682934\n",
      "2024-01-08  120.544334  122.340760  119.902754  121.213410  785847\n"
     ]
    }
   ],
   "source": [
    "\n",
    "# data.to_csv(\"RIO_2024_prices.csv\")\n",
    "\n",
    "# Print the first few rows to check\n",
    "print(data.head())\n"
   ]
  }
 ],
 "metadata": {
  "kernelspec": {
   "display_name": "Python 3",
   "language": "python",
   "name": "python3"
  },
  "language_info": {
   "codemirror_mode": {
    "name": "ipython",
    "version": 3
   },
   "file_extension": ".py",
   "mimetype": "text/x-python",
   "name": "python",
   "nbconvert_exporter": "python",
   "pygments_lexer": "ipython3",
   "version": "3.12.4"
  }
 },
 "nbformat": 4,
 "nbformat_minor": 2
}
